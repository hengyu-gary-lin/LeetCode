{
 "cells": [
  {
   "cell_type": "markdown",
   "id": "3f3f636b-305d-4f27-8690-2bd936ee233f",
   "metadata": {
    "tags": []
   },
   "source": [
    "# LeetCode "
   ]
  },
  {
   "cell_type": "markdown",
   "id": "966a1ebc-18ad-4af2-814f-ca0ddfa9c77a",
   "metadata": {
    "tags": []
   },
   "source": [
    "### 2264. Largest 3-Same-Digit Number in String"
   ]
  },
  {
   "cell_type": "code",
   "execution_count": 2,
   "id": "e038f0db-b42a-4568-aa90-854ce17cd8b5",
   "metadata": {
    "tags": []
   },
   "outputs": [],
   "source": [
    "class Solution:\n",
    "    def largestGoodInteger(self, num: str) -> str:\n",
    "        res = '' \n",
    "        cnt = 1\n",
    "        for i in range(1, len(num)):\n",
    "            if num[i] == num[i-1]:\n",
    "                cnt+=1\n",
    "            else:\n",
    "                cnt = 1\n",
    "            if cnt == 3:\n",
    "                res = max(res, num[i] * 3)\n",
    "        return res"
   ]
  },
  {
   "cell_type": "code",
   "execution_count": null,
   "id": "f6f5753d-2d68-44e8-9eb7-6d9638957582",
   "metadata": {},
   "outputs": [],
   "source": [
    "t = Solution()\n",
    "t.largestGoodInteger('42352338')"
   ]
  },
  {
   "cell_type": "code",
   "execution_count": 66,
   "id": "0734218a-a74c-4268-a243-13d1070de636",
   "metadata": {},
   "outputs": [],
   "source": [
    "class Solution:\n",
    "    def largestGoodInteger(self, num:str) -> str:\n",
    "        p = ''\n",
    "        output = []\n",
    "        for i in range(2, len(num)):\n",
    "            if num[i] == num[i-1] == num[i-2]:\n",
    "                output.append(num[i])\n",
    "                p = (max(output))*3 \n",
    "        return p"
   ]
  },
  {
   "cell_type": "code",
   "execution_count": 69,
   "id": "ae4dd8ad-61c4-469b-a69e-d006abd8435d",
   "metadata": {},
   "outputs": [
    {
     "data": {
      "text/plain": [
       "21"
      ]
     },
     "execution_count": 69,
     "metadata": {},
     "output_type": "execute_result"
    }
   ],
   "source": [
    "t = Solution()\n",
    "t.largestGoodInteger(\"677713331\")"
   ]
  },
  {
   "cell_type": "code",
   "execution_count": 19,
   "id": "23cdf878-0cbc-4203-ac2c-76919d6a4f73",
   "metadata": {},
   "outputs": [],
   "source": [
    "class Solution:\n",
    "    def largestGoodInteger(self, num:str) -> str:\n",
    "        output = max([num[i] if num[i] == num[i-1] == num[i-2] else '' for i in range(2,len(num))])*3\n",
    "        return output"
   ]
  },
  {
   "cell_type": "code",
   "execution_count": 20,
   "id": "ecacad93-3da9-42bf-8c13-70adc5bd7592",
   "metadata": {},
   "outputs": [
    {
     "data": {
      "text/plain": [
       "'999'"
      ]
     },
     "execution_count": 20,
     "metadata": {},
     "output_type": "execute_result"
    }
   ],
   "source": [
    "t = Solution()\n",
    "t.largestGoodInteger(\"6777133339999\")"
   ]
  },
  {
   "cell_type": "markdown",
   "id": "fd3819a1-44ca-4663-9372-17f9d99ffcfd",
   "metadata": {
    "tags": []
   },
   "source": [
    "### Leetcode 1742. Maximum Number of Balls in a Box"
   ]
  },
  {
   "cell_type": "code",
   "execution_count": 8,
   "id": "15cac6c6-6065-494c-8ca0-b4c80e3c4f71",
   "metadata": {},
   "outputs": [],
   "source": [
    "class Solution:\n",
    "    def countBalls(self, lowLimit: int, highLimit: int) -> int:\n",
    "        b_count = {}\n",
    "        for i in range(lowLimit, highLimit+1):\n",
    "            box = sum([int(j) for j in str(i)])\n",
    "            if box in b_count.keys():\n",
    "                b_count[box]+=1 \n",
    "            else:\n",
    "                b_count[box]=1\n",
    "        v = max([i for i in b_count.values()])\n",
    "        return v\n",
    "            "
   ]
  },
  {
   "cell_type": "code",
   "execution_count": 10,
   "id": "3509e80e-02c8-4162-bc3a-85aeecfbd0d2",
   "metadata": {},
   "outputs": [
    {
     "data": {
      "text/plain": [
       "10"
      ]
     },
     "execution_count": 10,
     "metadata": {},
     "output_type": "execute_result"
    }
   ],
   "source": [
    "q = Solution()\n",
    "q.countBalls(1,100)"
   ]
  },
  {
   "cell_type": "code",
   "execution_count": null,
   "id": "45a7f308-3624-4e30-a44a-8a3bffaea296",
   "metadata": {},
   "outputs": [],
   "source": []
  }
 ],
 "metadata": {
  "kernelspec": {
   "display_name": "Python 3 (ipykernel)",
   "language": "python",
   "name": "python3"
  },
  "language_info": {
   "codemirror_mode": {
    "name": "ipython",
    "version": 3
   },
   "file_extension": ".py",
   "mimetype": "text/x-python",
   "name": "python",
   "nbconvert_exporter": "python",
   "pygments_lexer": "ipython3",
   "version": "3.9.12"
  }
 },
 "nbformat": 4,
 "nbformat_minor": 5
}
